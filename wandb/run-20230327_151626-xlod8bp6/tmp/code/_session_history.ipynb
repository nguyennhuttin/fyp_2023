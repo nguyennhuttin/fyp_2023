{
 "cells": [
  {
   "cell_type": "code",
   "execution_count": 1,
   "id": "0cf2ecd7",
   "metadata": {},
   "outputs": [],
   "source": [
    "#! Tin \n",
    "from IPython.display import clear_output  \n",
    "import randomizeSequence as rSeq\n",
    "import ScrappySequence as ss\n",
    "import math\n",
    "import time\n",
    "import matplotlib.pyplot as plt\n",
    "from torch.utils.data import DataLoader\n",
    "from torch.utils.data.dataset import Dataset\n",
    "\n",
    "#!/usr/bin/env python\n",
    "import os\n",
    "import json\n",
    "import time\n",
    "import argparse\n",
    "from tqdm import tqdm\n",
    "from collections import defaultdict\n",
    "import math\n",
    "import argparse\n",
    "import importlib\n",
    "\n",
    "# torchim:\n",
    "import torch\n",
    "from torch import nn\n",
    "from torch.utils.data import DataLoader, Subset, ConcatDataset\n",
    "# from tensorboardX import SummaryWriter\n",
    "import numpy as np\n",
    "import pytorch_warmup as warmup\n",
    "\n",
    "# data:\n",
    "import data\n",
    "from data.collate import collate_fn, gpu_collate, no_pad_collate\n",
    "from data.transforms import (\n",
    "    Compose, AddLengths, AudioSqueeze, TextPreprocess,\n",
    "    MaskSpectrogram, ToNumpy, BPEtexts, MelSpectrogram,\n",
    "    ToGpu, Pad, NormalizedMelSpectrogram\n",
    ")\n",
    "import youtokentome as yttm\n",
    "\n",
    "import torchaudio\n",
    "from audiomentations import (\n",
    "    TimeStretch, PitchShift, AddGaussianNoise\n",
    ")\n",
    "from functools import partial\n",
    "\n",
    "# model:\n",
    "from model import configs as quartznet_configs\n",
    "from model.quartznet import QuartzNet\n",
    "\n",
    "# utils:\n",
    "import yaml\n",
    "from easydict import EasyDict as edict\n",
    "from utils import fix_seeds, remove_from_dict, prepare_bpe\n",
    "import wandb\n",
    "from decoder import GreedyDecoder, BeamCTCDecoder\n",
    "\n",
    "import youtokentome as yttm\n",
    "from gen_data_func import *"
   ]
  },
  {
   "cell_type": "code",
   "execution_count": 2,
   "id": "3b399bf6",
   "metadata": {},
   "outputs": [],
   "source": [
    "print(os.getcwd())\n",
    "data_file_name = \"out_csv/testing_out.csv\"\n",
    "samples_per_sequence = 3"
   ]
  },
  {
   "cell_type": "code",
   "execution_count": 3,
   "id": "d30258b7",
   "metadata": {},
   "outputs": [],
   "source": [
    "start = time.monotonic()\n",
    "signals,index,spacer_labels, letter_labels, barcode_labels, ctc_labels =prepare_train2(data_file_name, samples_per_sequence)\n",
    "end = time.monotonic()\n",
    "print(f\"Generated {len(signals)} signals and {len(spacer_labels)} labels\", f\"in {end-start}\")\n",
    "#Sequential: 26.099690708000026"
   ]
  },
  {
   "cell_type": "code",
   "execution_count": 4,
   "id": "9a66b119",
   "metadata": {},
   "outputs": [
    {
     "name": "stdout",
     "output_type": "stream",
     "text": [
      "9"
     ]
    }
   ],
   "source": [
    "len(signals)"
   ]
  },
  {
   "cell_type": "code",
   "execution_count": 5,
   "id": "a9ff94d4",
   "metadata": {},
   "outputs": [
    {
     "name": "stdout",
     "output_type": "stream",
     "text": [
      "9"
     ]
    }
   ],
   "source": [
    "plt.figure(figsize=(30, 10))\n",
    "i  = 1\n",
    "plt.plot(signals[i])\n",
    "plt.plot(spacer_labels[i])\n",
    "print(\"Letters:\", letter_labels[i], \"\\nbarcodes:\", barcode_labels[i], '\\nctc_labels:', ctc_labels[i])\n",
    "\n",
    "len(signals)"
   ]
  },
  {
   "cell_type": "code",
   "execution_count": 6,
   "id": "7a437e00",
   "metadata": {},
   "outputs": [],
   "source": [
    "#Create a \"SignalDataset\" class by importing the Pytorch Dataset class\n",
    "class Dataset_ctc(Dataset):\n",
    "    \"\"\" Data noisey sinewave dataset\n",
    "        num_datapoints - the number of datapoints you want\n",
    "    \"\"\"\n",
    "    def __init__(self, x,y):\n",
    "        self.x_data = x\n",
    "        self.y_data = y\n",
    "\n",
    "    #called by the dataLOADER class whenever it wants a new mini-batch\n",
    "    #returns corresponding input datapoints AND the corresponding labels\n",
    "    def __getitem__(self, index):\n",
    "        return {'audio': np.array(self.x_data[0]), 'text': np.array(self.y_data[0]), 'sample_rate': 22050}\n",
    "        \n",
    "    #length of the dataset\n",
    "    def __len__(self):\n",
    "        return len(self.x_data)"
   ]
  },
  {
   "cell_type": "code",
   "execution_count": 7,
   "id": "997479cf",
   "metadata": {},
   "outputs": [],
   "source": [
    "\n",
    "# TODO: wrap to trainer class\n",
    "\n",
    "parser = argparse.ArgumentParser(description='Training model.')\n",
    "parser.add_argument('--config', default='configs/train_LJSpeech.yaml',\n",
    "                    help='path to config file')\n",
    "args = parser.parse_args(\"\")\n",
    "with open(args.config, 'r') as f:\n",
    "    config = edict(yaml.safe_load(f))\n",
    "\n",
    "def write_to_file(str_w, file_name = 'sth.txt', mode = 'w'):\n",
    "    with open(file_name,mode) as f:\n",
    "        f.write(str(str_w))"
   ]
  },
  {
   "cell_type": "code",
   "execution_count": 8,
   "id": "5fb10427",
   "metadata": {},
   "outputs": [],
   "source": [
    "# config"
   ]
  },
  {
   "cell_type": "code",
   "execution_count": 9,
   "id": "4355aa3a",
   "metadata": {},
   "outputs": [
    {
     "name": "stdout",
     "output_type": "stream",
     "text": [
      "[]"
     ]
    },
    {
     "data": {
      "text/html": [
       "wandb version 0.14.0 is available!  To upgrade, please run:\n",
       " $ pip install wandb --upgrade"
      ],
      "text/plain": [
       "<IPython.core.display.HTML object>"
      ]
     },
     "metadata": {},
     "output_type": "display_data"
    },
    {
     "data": {
      "text/html": [
       "Tracking run with wandb version 0.13.10"
      ],
      "text/plain": [
       "<IPython.core.display.HTML object>"
      ]
     },
     "metadata": {},
     "output_type": "display_data"
    },
    {
     "data": {
      "text/html": [
       "Run data is saved locally in <code>c:\\Users\\nntin\\uni\\fyp\\quartznet-pytorch\\wandb\\run-20230327_151626-xlod8bp6</code>"
      ],
      "text/plain": [
       "<IPython.core.display.HTML object>"
      ]
     },
     "metadata": {},
     "output_type": "display_data"
    },
    {
     "data": {
      "text/html": [
       "Syncing run <strong><a href='https://wandb.ai/monash-deep-neuron/quartznet_ljspeech/runs/xlod8bp6' target=\"_blank\">dazzling-sky-37</a></strong> to <a href='https://wandb.ai/monash-deep-neuron/quartznet_ljspeech' target=\"_blank\">Weights & Biases</a> (<a href='https://wandb.me/run' target=\"_blank\">docs</a>)<br/>"
      ],
      "text/plain": [
       "<IPython.core.display.HTML object>"
      ]
     },
     "metadata": {},
     "output_type": "display_data"
    },
    {
     "data": {
      "text/html": [
       " View project at <a href='https://wandb.ai/monash-deep-neuron/quartznet_ljspeech' target=\"_blank\">https://wandb.ai/monash-deep-neuron/quartznet_ljspeech</a>"
      ],
      "text/plain": [
       "<IPython.core.display.HTML object>"
      ]
     },
     "metadata": {},
     "output_type": "display_data"
    },
    {
     "data": {
      "text/html": [
       " View run at <a href='https://wandb.ai/monash-deep-neuron/quartznet_ljspeech/runs/xlod8bp6' target=\"_blank\">https://wandb.ai/monash-deep-neuron/quartznet_ljspeech/runs/xlod8bp6</a>"
      ],
      "text/plain": [
       "<IPython.core.display.HTML object>"
      ]
     },
     "metadata": {},
     "output_type": "display_data"
    }
   ],
   "source": [
    "fix_seeds(seed=config.train.get('seed', 42))\n",
    "dataset_module = importlib.import_module(\n",
    "    f'.{config.dataset.name}', data.__name__)\n",
    "bpe = prepare_bpe(config)\n",
    "\n",
    "transforms_train = Compose([\n",
    "    # TextPreprocess(),# removing punctuation in text - might not needed\n",
    "    # ToNumpy(), # convert audio to numpy\n",
    "    # BPEtexts(bpe=bpe, dropout_prob=config.bpe.get('dropout_prob', 0.05)),\n",
    "    # AudioSqueeze(), # remove 1st dimension if it is 1 [1,...]\n",
    "    # AddGaussianNoise(\n",
    "    #     min_amplitude=0.001,\n",
    "    #     max_amplitude=0.015,\n",
    "    #     p=0.5\n",
    "    # ),\n",
    "    # TimeStretch(\n",
    "    #     min_rate=0.8,\n",
    "    #     max_rate=1.25,\n",
    "    #     p=0.5\n",
    "    # ),\n",
    "    # PitchShift(\n",
    "    #     min_semitones=-4,\n",
    "    #     max_semitones=4,\n",
    "    #     p=0.5\n",
    "    # )\n",
    "    # AddLengths()\n",
    "])\n",
    "\n",
    "batch_transforms_train = Compose([\n",
    "    ToGpu('cuda' if torch.cuda.is_available() else 'cpu'),\n",
    "    NormalizedMelSpectrogram(\n",
    "        sample_rate=config.dataset.get('sample_rate', 16000),\n",
    "        n_mels=config.model.feat_in,\n",
    "        normalize=config.dataset.get('normalize', None)\n",
    "    ).to('cuda' if torch.cuda.is_available() else 'cpu'),\n",
    "    MaskSpectrogram(\n",
    "        probability=0.5,\n",
    "        time_mask_max_percentage=0.05,\n",
    "        frequency_mask_max_percentage=0.15\n",
    "    ),\n",
    "    AddLengths(),\n",
    "    Pad()\n",
    "])\n",
    "\n",
    "transforms_val = Compose([\n",
    "#     TextPreprocess(),\n",
    "#     ToNumpy(),\n",
    "#     BPEtexts(bpe=bpe),\n",
    "#     AudioSqueeze()\n",
    "])\n",
    "\n",
    "batch_transforms_val = Compose([\n",
    "    ToGpu('cuda' if torch.cuda.is_available() else 'cpu'),\n",
    "    NormalizedMelSpectrogram(\n",
    "        sample_rate=config.dataset.get(\n",
    "            'sample_rate', 16000),  # for LJspeech\n",
    "        n_mels=config.model.feat_in,\n",
    "        normalize=config.dataset.get('normalize', None)\n",
    "    ).to('cuda' if torch.cuda.is_available() else 'cpu'),\n",
    "    AddLengths(),\n",
    "    Pad() # pad both audio and text\n",
    "])\n",
    "\n",
    "# load datasets\n",
    "# train_dataset = dataset_module.get_dataset(\n",
    "#     config, transforms=transforms_train, part='train')\n",
    "# val_dataset = dataset_module.get_dataset(\n",
    "#     config, transforms=transforms_val, part='val')\n",
    "\n",
    "# ! TIN Dataset\n",
    "train_dataset = Dataset_ctc(signals,ctc_labels)\n",
    "val_dataset = Dataset_ctc(signals,ctc_labels)\n",
    "\n",
    "# print(\"!!!\", config.train.get('num_workers', 4))\n",
    "train_dataloader = DataLoader(train_dataset, \n",
    "                                batch_size=config.train.get('batch_size', 1), collate_fn=no_pad_collate)\n",
    "\n",
    "val_dataloader = DataLoader(val_dataset, \n",
    "                            batch_size=1, collate_fn=no_pad_collate)\n",
    "\n",
    "print(getattr(quartznet_configs, config.model.name, '_quartznet5x5_config'))\n",
    "\n",
    "model = QuartzNet(\n",
    "    model_config=getattr(\n",
    "        quartznet_configs, config.model.name, '_quartznet5x5_config'),\n",
    "    **remove_from_dict(config.model, ['name'])\n",
    ")\n",
    "# model = QuartzNet(\n",
    "#     model_config=getattr(\n",
    "#         quartznet_configs, config.model.name, '_quartznet5x5_config'),**config)\n",
    "\n",
    "\n",
    "# print(model)\n",
    "write_to_file(model,'model_structure.txt')\n",
    "\n",
    "optimizer = torch.optim.Adam(\n",
    "    model.parameters(), **config.train.get('optimizer', {}))\n",
    "num_steps = len(train_dataloader) * config.train.get('epochs', 10)\n",
    "lr_scheduler = torch.optim.lr_scheduler.CosineAnnealingLR(\n",
    "    optimizer, T_max=num_steps)\n",
    "# warmup_scheduler = warmup.UntunedLinearWarmup(optimizer)\n",
    "\n",
    "if config.train.get('from_checkpoint', None) is not None:\n",
    "    model.load_weights(config.train.from_checkpoint)\n",
    "\n",
    "if torch.cuda.is_available():\n",
    "    model = model.cuda()\n",
    "\n",
    "criterion = nn.CTCLoss(blank=0, reduction='mean', zero_infinity=True)\n",
    "# criterion = nn.CTCLoss(blank=config.model.vocab_size)\n",
    "decoder = GreedyDecoder(bpe=bpe)\n",
    "\n",
    "prev_wer = 1000\n",
    "wandb.init(project=config.wandb.project, config=config)\n",
    "wandb.watch(model, log=\"all\", log_freq=config.wandb.get(\n",
    "    'log_interval', 5000))"
   ]
  },
  {
   "cell_type": "code",
   "execution_count": 10,
   "id": "4598cf89",
   "metadata": {},
   "outputs": [
    {
     "name": "stdout",
     "output_type": "stream",
     "text": [
      "{'dataset': {'root': 'DB/LJspeech',\n",
      "  'train_part': 0.95,\n",
      "  'name': 'ljspeech',\n",
      "  'sample_rate': 22050},\n",
      " 'bpe': {'train': True, 'model_path': 'yttm.bpe'},\n",
      " 'train': {'seed': 42,\n",
      "  'num_workers': 1,\n",
      "  'batch_size': 8,\n",
      "  'clip_grad_norm': 15,\n",
      "  'epochs': 42,\n",
      "  'optimizer': {'lr': 0.0005, 'weight_decay': 0.0001}},\n",
      " 'wandb': {'project': 'quartznet_ljspeech', 'log_interval': 20},\n",
      " 'model': {'name': '_quartznet5x5_config', 'vocab_size': 120, 'feat_in': 64}}"
     ]
    }
   ],
   "source": [
    "config"
   ]
  },
  {
   "cell_type": "code",
   "execution_count": 11,
   "id": "d8fc2b61",
   "metadata": {},
   "outputs": [
    {
     "name": "stdout",
     "output_type": "stream",
     "text": [
      "[array([256,  89, 256,  56, 256, 165, 256,  40, 256, 132, 256, 143, 256,\n",
      "        174, 256]),\n",
      " array([256,  89, 256,  56, 256, 165, 256,  40, 256, 132, 256, 143, 256,\n",
      "        174, 256]),\n",
      " array([256,  89, 256,  56, 256, 165, 256,  40, 256, 132, 256, 143, 256,\n",
      "        174, 256]),\n",
      " array([256,  89, 256,  56, 256, 165, 256,  40, 256, 132, 256, 143, 256,\n",
      "        174, 256]),\n",
      " array([256,  89, 256,  56, 256, 165, 256,  40, 256, 132, 256, 143, 256,\n",
      "        174, 256]),\n",
      " array([256,  89, 256,  56, 256, 165, 256,  40, 256, 132, 256, 143, 256,\n",
      "        174, 256]),\n",
      " array([256,  89, 256,  56, 256, 165, 256,  40, 256, 132, 256, 143, 256,\n",
      "        174, 256]),\n",
      " array([256,  89, 256,  56, 256, 165, 256,  40, 256, 132, 256, 143, 256,\n",
      "        174, 256])]"
     ]
    }
   ],
   "source": [
    "a=next(iter(train_dataloader))\n",
    "print(len(a))\n",
    "print(len(a['audio']))\n",
    "print(len(a['text']))\n",
    "a['text']"
   ]
  },
  {
   "cell_type": "code",
   "execution_count": 12,
   "id": "465391b9",
   "metadata": {},
   "outputs": [],
   "source": [
    "\n",
    "for epoch_idx in tqdm(range(config.train.get('epochs', 10))):\n",
    "    # train:\n",
    "    model.train()\n",
    "    for batch_idx, batch in enumerate(train_dataloader):\n",
    "        batch1=batch\n",
    "        # print(len(batch1['audio'][0]))\n",
    "        batch = batch_transforms_train(batch)\n",
    "        batch2=batch\n",
    "        # print(len(batch2['audio'][0]))\n",
    "\n",
    "        optimizer.zero_grad()\n",
    "        print('batch audio shape:', batch['audio'].shape)\n",
    "        logits = model(batch['audio'])\n",
    "        print('logits shape:', logits.shape)\n",
    "        \n",
    "        output_length = torch.ceil(\n",
    "            batch['input_lengths'].float() / model.stride).int()\n",
    "        print('output_length shape:',output_length)\n",
    "        print('target_lengths:',batch['target_lengths'])\n",
    "        \n",
    "        loss = criterion(logits.permute(2, 0, 1).log_softmax(\n",
    "            dim=2), batch['text'], output_length, batch['target_lengths']) # target_length is the length of text of batch1 (before batch aug)\n",
    "        loss.backward()\n",
    "        torch.nn.utils.clip_grad_norm_(\n",
    "            model.parameters(), config.train.get('clip_grad_norm', 15))\n",
    "        optimizer.step()\n",
    "        lr_scheduler.step()\n",
    "        # warmup_scheduler.dampen()\n",
    "        break\n",
    "        if batch_idx % config.wandb.get('log_interval', 5000) == 0:\n",
    "            target_strings = decoder.convert_to_strings(batch['text'])\n",
    "            decoded_output = decoder.decode(\n",
    "                logits.permute(0, 2, 1).softmax(dim=2))\n",
    "            wer = np.mean([decoder.wer(true, pred)\n",
    "                            for true, pred in zip(target_strings, decoded_output)])\n",
    "            cer = np.mean([decoder.cer(true, pred)\n",
    "                            for true, pred in zip(target_strings, decoded_output)])\n",
    "            step = epoch_idx * \\\n",
    "                len(train_dataloader) * train_dataloader.batch_size + \\\n",
    "                batch_idx * train_dataloader.batch_size\n",
    "            wandb.log({\n",
    "                \"train_loss\": loss.item(),\n",
    "                \"train_wer\": wer,\n",
    "                \"train_cer\": cer,\n",
    "                \"train_samples\": wandb.Table(\n",
    "                    columns=['gt_text', 'pred_text'],\n",
    "                    data=zip(target_strings, decoded_output)\n",
    "                )\n",
    "            }, step=step)\n",
    "    # #!\n",
    "    # # validate:\n",
    "    # model.eval()\n",
    "    # val_stats = defaultdict(list)\n",
    "    # for batch_idx, batch in enumerate(val_dataloader):\n",
    "    #     batch = batch_transforms_val(batch)\n",
    "    #     with torch.no_grad():\n",
    "    #         logits = model(batch['audio'])\n",
    "    #         output_length = torch.ceil(\n",
    "    #             batch['input_lengths'].float() / model.stride).int()\n",
    "    #         loss = criterion(logits.permute(2, 0, 1).log_softmax(\n",
    "    #             dim=2), batch['text'], output_length, batch['target_lengths'])\n",
    "\n",
    "    #     target_strings = decoder.convert_to_strings(batch['text'])\n",
    "    #     decoded_output = decoder.decode(\n",
    "    #         logits.permute(0, 2, 1).softmax(dim=2))\n",
    "    #     wer = np.mean([decoder.wer(true, pred)\n",
    "    #                     for true, pred in zip(target_strings, decoded_output)])\n",
    "    #     cer = np.mean([decoder.cer(true, pred)\n",
    "    #                     for true, pred in zip(target_strings, decoded_output)])\n",
    "    #     val_stats['val_loss'].append(loss.item())\n",
    "    #     val_stats['wer'].append(wer)\n",
    "    #     val_stats['cer'].append(cer)\n",
    "    # for k, v in val_stats.items():\n",
    "    #     val_stats[k] = np.mean(v)\n",
    "    # val_stats['val_samples'] = wandb.Table(\n",
    "    #     columns=['gt_text', 'pred_text'], data=zip(target_strings, decoded_output))\n",
    "    # wandb.log(val_stats, step=step)\n",
    "\n",
    "    # # save model, TODO: save optimizer:\n",
    "    # if val_stats['wer'] < prev_wer:\n",
    "    #     os.makedirs(config.train.get(\n",
    "    #         'checkpoint_path', 'checkpoints'), exist_ok=True)\n",
    "    #     prev_wer = val_stats['wer']\n",
    "    #     torch.save(\n",
    "    #         model.state_dict(),\n",
    "    #         os.path.join(config.train.get(\n",
    "    #             'checkpoint_path', 'checkpoints'), f'model_{epoch_idx}_{prev_wer}.pth')\n",
    "    #     )\n",
    "    #     wandb.save(os.path.join(config.train.get(\n",
    "    #         'checkpoint_path', 'checkpoints'), f'model_{epoch_idx}_{prev_wer}.pth'))\n",
    "    break"
   ]
  },
  {
   "cell_type": "code",
   "execution_count": 13,
   "id": "362030a1",
   "metadata": {},
   "outputs": [],
   "source": [
    "a=next(iter(train_dataloader))\n",
    "print(len(a))\n",
    "print(len(a['audio']))\n",
    "print(len(a['text']))\n",
    "# a['text']"
   ]
  },
  {
   "cell_type": "code",
   "execution_count": 14,
   "id": "a8e49bbd",
   "metadata": {},
   "outputs": [],
   "source": [
    "fix_seeds(seed=config.train.get('seed', 42))\n",
    "dataset_module = importlib.import_module(\n",
    "    f'.{config.dataset.name}', data.__name__)\n",
    "bpe = prepare_bpe(config)\n",
    "\n",
    "transforms_train = Compose([\n",
    "    # TextPreprocess(),# removing punctuation in text - might not needed\n",
    "    # ToNumpy(), # convert audio to numpy\n",
    "    # BPEtexts(bpe=bpe, dropout_prob=config.bpe.get('dropout_prob', 0.05)),\n",
    "    # AudioSqueeze(), # remove 1st dimension if it is 1 [1,...]\n",
    "    # AddGaussianNoise(\n",
    "    #     min_amplitude=0.001,\n",
    "    #     max_amplitude=0.015,\n",
    "    #     p=0.5\n",
    "    # ),\n",
    "    # TimeStretch(\n",
    "    #     min_rate=0.8,\n",
    "    #     max_rate=1.25,\n",
    "    #     p=0.5\n",
    "    # ),\n",
    "    # PitchShift(\n",
    "    #     min_semitones=-4,\n",
    "    #     max_semitones=4,\n",
    "    #     p=0.5\n",
    "    # )\n",
    "    # AddLengths()\n",
    "])\n",
    "\n",
    "batch_transforms_train = Compose([\n",
    "    ToGpu('cuda' if torch.cuda.is_available() else 'cpu'),\n",
    "    # NormalizedMelSpectrogram(\n",
    "    #     sample_rate=config.dataset.get('sample_rate', 16000),\n",
    "    #     n_mels=config.model.feat_in,\n",
    "    #     normalize=config.dataset.get('normalize', None)\n",
    "    # ).to('cuda' if torch.cuda.is_available() else 'cpu'),\n",
    "    # MaskSpectrogram(\n",
    "    #     probability=0.5,\n",
    "    #     time_mask_max_percentage=0.05,\n",
    "    #     frequency_mask_max_percentage=0.15\n",
    "    # ),\n",
    "    AddLengths(),\n",
    "    Pad()\n",
    "])\n",
    "\n",
    "transforms_val = Compose([\n",
    "#     TextPreprocess(),\n",
    "#     ToNumpy(),\n",
    "#     BPEtexts(bpe=bpe),\n",
    "#     AudioSqueeze()\n",
    "])\n",
    "\n",
    "batch_transforms_val = Compose([\n",
    "    ToGpu('cuda' if torch.cuda.is_available() else 'cpu'),\n",
    "    NormalizedMelSpectrogram(\n",
    "        sample_rate=config.dataset.get(\n",
    "            'sample_rate', 16000),  # for LJspeech\n",
    "        n_mels=config.model.feat_in,\n",
    "        normalize=config.dataset.get('normalize', None)\n",
    "    ).to('cuda' if torch.cuda.is_available() else 'cpu'),\n",
    "    AddLengths(),\n",
    "    Pad() # pad both audio and text\n",
    "])\n",
    "\n",
    "# load datasets\n",
    "# train_dataset = dataset_module.get_dataset(\n",
    "#     config, transforms=transforms_train, part='train')\n",
    "# val_dataset = dataset_module.get_dataset(\n",
    "#     config, transforms=transforms_val, part='val')\n",
    "\n",
    "# ! TIN Dataset\n",
    "train_dataset = Dataset_ctc(signals,ctc_labels)\n",
    "val_dataset = Dataset_ctc(signals,ctc_labels)\n",
    "\n",
    "# print(\"!!!\", config.train.get('num_workers', 4))\n",
    "train_dataloader = DataLoader(train_dataset, \n",
    "                                batch_size=config.train.get('batch_size', 1), collate_fn=no_pad_collate)\n",
    "\n",
    "val_dataloader = DataLoader(val_dataset, \n",
    "                            batch_size=1, collate_fn=no_pad_collate)\n",
    "\n",
    "print(getattr(quartznet_configs, config.model.name, '_quartznet5x5_config'))\n",
    "\n",
    "model = QuartzNet(\n",
    "    model_config=getattr(\n",
    "        quartznet_configs, config.model.name, '_quartznet5x5_config'),\n",
    "    **remove_from_dict(config.model, ['name'])\n",
    ")\n",
    "# model = QuartzNet(\n",
    "#     model_config=getattr(\n",
    "#         quartznet_configs, config.model.name, '_quartznet5x5_config'),**config)\n",
    "\n",
    "\n",
    "# print(model)\n",
    "write_to_file(model,'model_structure.txt')\n",
    "\n",
    "optimizer = torch.optim.Adam(\n",
    "    model.parameters(), **config.train.get('optimizer', {}))\n",
    "num_steps = len(train_dataloader) * config.train.get('epochs', 10)\n",
    "lr_scheduler = torch.optim.lr_scheduler.CosineAnnealingLR(\n",
    "    optimizer, T_max=num_steps)\n",
    "# warmup_scheduler = warmup.UntunedLinearWarmup(optimizer)\n",
    "\n",
    "if config.train.get('from_checkpoint', None) is not None:\n",
    "    model.load_weights(config.train.from_checkpoint)\n",
    "\n",
    "if torch.cuda.is_available():\n",
    "    model = model.cuda()\n",
    "\n",
    "criterion = nn.CTCLoss(blank=0, reduction='mean', zero_infinity=True)\n",
    "# criterion = nn.CTCLoss(blank=config.model.vocab_size)\n",
    "decoder = GreedyDecoder(bpe=bpe)\n",
    "\n",
    "prev_wer = 1000\n",
    "wandb.init(project=config.wandb.project, config=config)\n",
    "wandb.watch(model, log=\"all\", log_freq=config.wandb.get(\n",
    "    'log_interval', 5000))"
   ]
  }
 ],
 "metadata": {
  "kernelspec": {
   "display_name": "Python 3",
   "language": "python",
   "name": "python3"
  },
  "language_info": {
   "codemirror_mode": {
    "name": "ipython",
    "version": 3
   },
   "file_extension": ".py",
   "mimetype": "text/x-python",
   "name": "python",
   "nbconvert_exporter": "python",
   "pygments_lexer": "ipython3",
   "version": "3.9.15"
  }
 },
 "nbformat": 4,
 "nbformat_minor": 5
}
